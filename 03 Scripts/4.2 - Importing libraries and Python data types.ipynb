{
 "cells": [
  {
   "cell_type": "markdown",
   "id": "090b49f6",
   "metadata": {},
   "source": [
    "# 01. Importing libraries"
   ]
  },
  {
   "cell_type": "code",
   "execution_count": 2,
   "id": "b44a970f",
   "metadata": {},
   "outputs": [],
   "source": [
    "# Import libraries\n",
    "import pandas as pd\n",
    "import numpy as np\n",
    "import os"
   ]
  },
  {
   "cell_type": "markdown",
   "id": "618a86df",
   "metadata": {},
   "source": [
    "# 02. Data types"
   ]
  },
  {
   "cell_type": "code",
   "execution_count": 9,
   "id": "b0e48337",
   "metadata": {},
   "outputs": [
    {
     "name": "stdout",
     "output_type": "stream",
     "text": [
      "100\n"
     ]
    }
   ],
   "source": [
    "a = 50\n",
    "b = 50\n",
    "c = a + b \n",
    "print(c)"
   ]
  },
  {
   "cell_type": "code",
   "execution_count": 11,
   "id": "0579b431",
   "metadata": {},
   "outputs": [
    {
     "name": "stdout",
     "output_type": "stream",
     "text": [
      "100\n"
     ]
    }
   ],
   "source": [
    "a = 150\n",
    "b = 50\n",
    "c = a - b\n",
    "print(c)"
   ]
  },
  {
   "cell_type": "code",
   "execution_count": 12,
   "id": "c7dcf9d9",
   "metadata": {},
   "outputs": [
    {
     "name": "stdout",
     "output_type": "stream",
     "text": [
      "100\n"
     ]
    }
   ],
   "source": [
    "a = 25\n",
    "b = 75\n",
    "c = a + b \n",
    "print(c)"
   ]
  },
  {
   "cell_type": "code",
   "execution_count": 19,
   "id": "c197c030",
   "metadata": {},
   "outputs": [
    {
     "data": {
      "text/plain": [
       "1.7986577181208054"
      ]
     },
     "execution_count": 19,
     "metadata": {},
     "output_type": "execute_result"
    }
   ],
   "source": [
    "result = 2.68 / 1.49\n",
    "result "
   ]
  },
  {
   "cell_type": "code",
   "execution_count": 21,
   "id": "c091e8ad",
   "metadata": {},
   "outputs": [
    {
     "data": {
      "text/plain": [
       "2.7133237923839744"
      ]
     },
     "execution_count": 21,
     "metadata": {},
     "output_type": "execute_result"
    }
   ],
   "source": [
    "result = 10.4353984 / 3.84598345\n",
    "result"
   ]
  },
  {
   "cell_type": "code",
   "execution_count": 26,
   "id": "abf8a04c",
   "metadata": {},
   "outputs": [
    {
     "data": {
      "text/plain": [
       "'Hello, Lee'"
      ]
     },
     "execution_count": 26,
     "metadata": {},
     "output_type": "execute_result"
    }
   ],
   "source": [
    "a = 'Hello, '\n",
    "b = 'Lee'\n",
    "a + b"
   ]
  },
  {
   "cell_type": "code",
   "execution_count": 28,
   "id": "ef86cdf5",
   "metadata": {},
   "outputs": [
    {
     "data": {
      "text/plain": [
       "('Python programming is fun.',\n",
       " 'Jupyter Notebook provides interactive coding experiences.')"
      ]
     },
     "execution_count": 28,
     "metadata": {},
     "output_type": "execute_result"
    }
   ],
   "source": [
    "subject1 = 'Python programming'\n",
    "verb1 = 'is'\n",
    "object1 = 'fun.'\n",
    "\n",
    "subject2 = 'Jupyter Notebook'\n",
    "verb2 = 'provides'\n",
    "object2 = 'interactive coding experiences.'\n",
    "\n",
    "sentence1 = subject1 + ' ' + verb1 + ' ' + object1\n",
    "sentence2 = subject2 + ' ' + verb2 + ' ' + object2\n",
    "\n",
    "sentence1, sentence2"
   ]
  },
  {
   "cell_type": "code",
   "execution_count": null,
   "id": "aad60eab",
   "metadata": {},
   "outputs": [],
   "source": []
  }
 ],
 "metadata": {
  "kernelspec": {
   "display_name": "Python 3 (ipykernel)",
   "language": "python",
   "name": "python3"
  },
  "language_info": {
   "codemirror_mode": {
    "name": "ipython",
    "version": 3
   },
   "file_extension": ".py",
   "mimetype": "text/x-python",
   "name": "python",
   "nbconvert_exporter": "python",
   "pygments_lexer": "ipython3",
   "version": "3.11.5"
  }
 },
 "nbformat": 4,
 "nbformat_minor": 5
}
